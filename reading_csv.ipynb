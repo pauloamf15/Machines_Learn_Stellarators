{
 "cells": [
  {
   "cell_type": "code",
   "execution_count": 1,
   "metadata": {},
   "outputs": [],
   "source": [
    "import pandas as pd\n",
    "import numpy as np\n",
    "import multiprocessing as mp\n",
    "import matplotlib.pyplot as plt"
   ]
  },
  {
   "cell_type": "code",
   "execution_count": 5,
   "metadata": {},
   "outputs": [
    {
     "data": {
      "text/plain": [
       "189.02788461538464"
      ]
     },
     "execution_count": 5,
     "metadata": {},
     "output_type": "execute_result"
    }
   ],
   "source": [
    "# Read the CSV file\n",
    "df = pd.read_csv('ScanNA1.csv')\n",
    "df=df.dropna()\n",
    "(3*(len(df)/52))/60\n",
    "# print(df)"
   ]
  },
  {
   "cell_type": "code",
   "execution_count": 3,
   "metadata": {},
   "outputs": [],
   "source": [
    "# Read the CSV file\n",
    "# df = pd.read_csv('scan7Clean.csv.zip')\n",
    "# display(df)\n",
    "# print(df['axLenght'])\n",
    "# # Number of threads to use\n",
    "# num_threads = mp.cpu_count()  # Use the number of available CPU cores\n",
    "# # Split the DataFrame into chunks based on the number of threads\n",
    "# chunks = np.array_split(df, num_threads)"
   ]
  },
  {
   "cell_type": "code",
   "execution_count": 4,
   "metadata": {},
   "outputs": [],
   "source": [
    "from neat.fields import StellnaQS\n",
    "from neat.tracing import ChargedParticleEnsemble, ParticleEnsembleOrbit\n",
    "\n",
    "\n",
    "B0 = 5.3267  # Tesla, magnetic field on-axis\n",
    "Rmajor_ARIES = 7.7495*2\n",
    "Rminor_ARIES = 1.7044\n",
    "\n",
    "\n",
    "g_field_basis = StellnaQS(rc=[1,df['rc1'][0]], zs= [0,df['zs1'][0]], etabar=df['eta'][0], B0=B0, nfp=df['nfp'][0], order='r1', nphi=401)\n",
    "g_field = StellnaQS(rc=g_field_basis.rc*Rmajor_ARIES, zs=g_field_basis.zs*Rmajor_ARIES, \\\n",
    "                        etabar=g_field_basis.etabar/Rmajor_ARIES, B2c=g_field_basis.B2c*(B0/Rmajor_ARIES/Rmajor_ARIES),\\\n",
    "                            B0=B0, nfp=g_field_basis.nfp, order='r1', nphi=41)\n",
    "\n",
    "# g_field.plot_boundary(r=Rminor_ARIES)\n"
   ]
  },
  {
   "cell_type": "code",
   "execution_count": 5,
   "metadata": {},
   "outputs": [],
   "source": [
    "r_initial = Rminor_ARIES*0.75  # meters\n",
    "r_max = Rminor_ARIES*0.99  # meters\n",
    "\n",
    "energy = 3.52e6  # electron-volt\n",
    "charge = 2  # times charge of proton\n",
    "mass = 4  # times mass of proton\n",
    "ntheta = 20  # resolution in theta\n",
    "nphi = 20  # resolution in phi\n",
    "nlambda_trapped = 5  # number of pitch angles for trapped particles\n",
    "nlambda_passing = 0  # number of pitch angles for passing particles\n",
    "\n",
    "g_particle = ChargedParticleEnsemble(\n",
    "    r_initial=r_initial,\n",
    "    r_max=r_max,\n",
    "    energy=energy,\n",
    "    charge=charge,\n",
    "    mass=mass,\n",
    "    ntheta=ntheta,\n",
    "    nphi=nphi,\n",
    "    nlambda_trapped=nlambda_trapped,\n",
    "    nlambda_passing=nlambda_passing\n",
    ")"
   ]
  },
  {
   "cell_type": "code",
   "execution_count": 6,
   "metadata": {},
   "outputs": [
    {
     "name": "stdout",
     "output_type": "stream",
     "text": [
      "Starting particle tracer with B20 constant\n"
     ]
    }
   ],
   "source": [
    "print(\"Starting particle tracer with B20 constant\")\n",
    "constant_b20 = True\n",
    "nsamples = 10000  # resolution in time\n",
    "tfinal = 1e-4  # seconds\n",
    "dist = 0\n",
    "thetas = np.linspace(0, 2*np.pi, ntheta)\n",
    "varphis = np.linspace(0, 2*np.pi/df['nfp'][0], nphi)\n",
    "\n",
    "g_orbits = ParticleEnsembleOrbit(\n",
    "    g_particle,\n",
    "    g_field,\n",
    "    nsamples=nsamples,\n",
    "    nthreads=1,\n",
    "    tfinal=tfinal,\n",
    "    constant_b20=constant_b20,\n",
    "    dist=dist,\n",
    "    thetas=thetas,\n",
    "    phis=varphis\n",
    ")"
   ]
  },
  {
   "cell_type": "code",
   "execution_count": 7,
   "metadata": {},
   "outputs": [
    {
     "name": "stdout",
     "output_type": "stream",
     "text": [
      "0.0\n"
     ]
    }
   ],
   "source": [
    "loss_fraction = g_orbits.loss_fraction(r_max=r_max, jacobian_weight=True)\n",
    "print(g_orbits.loss_fraction_array[-1])"
   ]
  },
  {
   "cell_type": "code",
   "execution_count": 8,
   "metadata": {},
   "outputs": [
    {
     "data": {
      "image/png": "[encoded data removed]",
      "text/plain": [
       "<Figure size 432x288 with 1 Axes>"
      ]
     },
     "metadata": {
      "needs_background": "light"
     },
     "output_type": "display_data"
    }
   ],
   "source": [
    "plt.plot(g_orbits.r_pos[5])\n",
    "plt.show()"
   ]
  },
  {
   "cell_type": "code",
   "execution_count": 9,
   "metadata": {},
   "outputs": [],
   "source": [
    "# Concatenate the results into a single DataFrame\n",
    "df['Loss Fraction'] = loss_fraction[0]*len(df['nfp'])"
   ]
  },
  {
   "cell_type": "code",
   "execution_count": 10,
   "metadata": {},
   "outputs": [],
   "source": [
    "# Save the modified DataFrame back to the CSV file\n",
    "df.to_csv('your_file_with_loss_fraction.csv', index=False)"
   ]
  },
  {
   "cell_type": "code",
   "execution_count": 12,
   "metadata": {},
   "outputs": [
    {
     "name": "stdout",
     "output_type": "stream",
     "text": [
      "We have 4000 particles\n"
     ]
    }
   ],
   "source": [
    "print(f'We have {len(g_orbits.r_pos)} particles')"
   ]
  },
  {
   "cell_type": "code",
   "execution_count": 15,
   "metadata": {},
   "outputs": [
    {
     "name": "stdout",
     "output_type": "stream",
     "text": [
      "0\n",
      "1\n",
      "2\n",
      "3\n",
      "4\n",
      "5\n",
      "6\n",
      "7\n",
      "8\n",
      "9\n",
      "10\n",
      "11\n",
      "12\n",
      "13\n",
      "14\n",
      "15\n",
      "16\n",
      "17\n",
      "18\n",
      "19\n",
      "20\n",
      "21\n",
      "22\n",
      "23\n",
      "24\n",
      "25\n",
      "26\n",
      "27\n",
      "28\n",
      "29\n",
      "30\n",
      "31\n",
      "32\n",
      "33\n",
      "34\n",
      "35\n",
      "36\n",
      "37\n",
      "38\n",
      "39\n",
      "40\n",
      "41\n",
      "42\n",
      "43\n",
      "44\n",
      "45\n",
      "46\n",
      "47\n",
      "48\n",
      "49\n",
      "50\n",
      "51\n"
     ]
    }
   ],
   "source": [
    "for i in np.arange(len(df)):\n",
    "    print(i)"
   ]
  }
 ],
 "metadata": {
  "kernelspec": {
   "display_name": "Python 3",
   "language": "python",
   "name": "python3"
  },
  "language_info": {
   "codemirror_mode": {
    "name": "ipython",
    "version": 3
   },
   "file_extension": ".py",
   "mimetype": "text/x-python",
   "name": "python",
   "nbconvert_exporter": "python",
   "pygments_lexer": "ipython3",
   "version": "3.8.10"
  },
  "orig_nbformat": 4
 },
 "nbformat": 4,
 "nbformat_minor": 2
}
